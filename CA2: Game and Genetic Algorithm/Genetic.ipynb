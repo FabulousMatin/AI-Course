{
 "cells": [
  {
   "attachments": {},
   "cell_type": "markdown",
   "metadata": {},
   "source": [
    "## Genetic Algorithm\n",
    "\n",
    "in this project we are going to see how a big problem with lots of data can be solved by genetic algorithm, and see how answers(known as chromosomes) are getting optimized by time, and see and analyse mutate and crossover methods."
   ]
  },
  {
   "cell_type": "code",
   "execution_count": 25,
   "metadata": {},
   "outputs": [],
   "source": [
    "import pandas as pd\n",
    "import numpy as np\n",
    "import random\n",
    "from math import ceil"
   ]
  },
  {
   "attachments": {},
   "cell_type": "markdown",
   "metadata": {},
   "source": [
    "- A gene is the percentage of a stock, so chromosome is a series of total number of genes(400 in this case)\n",
    "- sum of genes of a chromosome must be 1\n",
    "- to produce primary population, we use 400 random genes and then normalize them to satisfy chromosome condition.\n",
    "- according to problem we must have risk < 60% and return > 1000% so I give a bigger negative ratio to risk and a 1 ration to return"
   ]
  },
  {
   "cell_type": "code",
   "execution_count": 26,
   "metadata": {},
   "outputs": [],
   "source": [
    "def fitness(col):\n",
    "    return (col * (stocks['return'] - 5 * stocks['risk'])).sum()\n",
    "\n",
    "def sreturn(col):\n",
    "    return (col * stocks['return']).sum()\n",
    "    \n",
    "def srisk(col):\n",
    "    return (col * stocks['risk']).sum()"
   ]
  },
  {
   "attachments": {},
   "cell_type": "markdown",
   "metadata": {},
   "source": [
    "Q1: I found a good balance of time and accuracy in population = 300, large population takes much time to generate a new generation while small population causes sameness of data and does not produce diverse children so we may not have good chromosome.\n",
    "\n",
    "Q2: increasing popultion in each generation makes program slower and it push data to latests generation, it can be good or bad, after some generations we have less diverse data so increasig population does not really help as we get close to last generations.\n",
    "\n",
    "I used dataframe to keep genes, rows are people and colomns are genes"
   ]
  },
  {
   "cell_type": "code",
   "execution_count": 27,
   "metadata": {},
   "outputs": [
    {
     "name": "stdout",
     "output_type": "stream",
     "text": [
      "-1.392222623251269\n"
     ]
    }
   ],
   "source": [
    "stocks = pd.read_csv(\"sample.csv\")\n",
    "n_stocks = stocks.shape[0]\n",
    "\n",
    "population = 300\n",
    "half = int(population / 2)\n",
    "ranks = list(range(1,population + 1))\n",
    "people = pd.DataFrame(np.random.randint(0,100,size=(n_stocks, population)))\n",
    "\n",
    "\n",
    "people = people.apply(lambda x : x/x.sum(), axis=0)\n",
    "\n",
    "people.loc['fitness'] = people.apply(fitness,axis=0)\n",
    "print(people.loc['fitness'].max())\n",
    "people.sort_values(by = 'fitness', inplace=True, axis=1)\n",
    "people.drop('fitness',axis=0, inplace=True)\n",
    "people.columns = range(people.columns.size)"
   ]
  },
  {
   "attachments": {},
   "cell_type": "markdown",
   "metadata": {},
   "source": [
    "Q3:\n",
    "- crossover makes data more diverse so using only mutation causes sameness and does not produce good data. \n",
    "- mutation is good for sudden progress and prevent pushing data to the best fitting chromosomes, using only crossover makes progress much slower because a good mutate can make a good chromosome and that chromosome reproduce and get us closer to answer and a bad one does not affect whole data and will be removed naturally in next generations."
   ]
  },
  {
   "attachments": {},
   "cell_type": "markdown",
   "metadata": {},
   "source": [
    "I reduce mutation rate every generation because when chromosomes are getting close to answer, we already have good genes and mutating them may causes outlier genes."
   ]
  },
  {
   "cell_type": "code",
   "execution_count": 28,
   "metadata": {},
   "outputs": [],
   "source": [
    "mutation_rate = -0.05\n",
    "mutation_init = int(0.07 * population)"
   ]
  },
  {
   "attachments": {},
   "cell_type": "markdown",
   "metadata": {},
   "source": [
    "I use uniform crossover and rank based selection of parents for next generation.\n",
    "\n",
    "Note:\n",
    "- commented code is a alternative way of crossover, 1-point crossover\n",
    "\n",
    "Q4: I tried cutting off minimum genes in every generation and spread their weight to other genes, it has some pros and cons, it can help to get high fitting answers in early generations but in long time by denying these genes, we can not have diverse chromosomes.\n"
   ]
  },
  {
   "cell_type": "code",
   "execution_count": 29,
   "metadata": {},
   "outputs": [
    {
     "name": "stderr",
     "output_type": "stream",
     "text": [
      "C:\\Users\\asus\\AppData\\Local\\Packages\\PythonSoftwareFoundation.Python.3.7_qbz5n2kfra8p0\\LocalCache\\local-packages\\Python37\\site-packages\\ipykernel_launcher.py:9: PerformanceWarning: DataFrame is highly fragmented.  This is usually the result of calling `frame.insert` many times, which has poor performance.  Consider joining all columns at once using pd.concat(axis=1) instead.  To get a de-fragmented frame, use `newframe = frame.copy()`\n",
      "  if __name__ == \"__main__\":\n",
      "C:\\Users\\asus\\AppData\\Local\\Packages\\PythonSoftwareFoundation.Python.3.7_qbz5n2kfra8p0\\LocalCache\\local-packages\\Python37\\site-packages\\ipykernel_launcher.py:8: PerformanceWarning: DataFrame is highly fragmented.  This is usually the result of calling `frame.insert` many times, which has poor performance.  Consider joining all columns at once using pd.concat(axis=1) instead.  To get a de-fragmented frame, use `newframe = frame.copy()`\n",
      "  \n"
     ]
    },
    {
     "name": "stdout",
     "output_type": "stream",
     "text": [
      "0 -1.3733105958031198\n",
      "1 -0.8754568557665854\n",
      "2 -1.0383563593731004\n",
      "3 0.18521641326793592\n",
      "4 -0.20236171193620672\n",
      "5 -0.2816543369996051\n",
      "6 -0.14577228761198857\n",
      "7 -0.19908784562450776\n",
      "8 -0.2545509503598539\n",
      "9 1.101527907297298\n",
      "10 0.5451476310250488\n",
      "11 0.6108905352181488\n",
      "12 0.6704543846676454\n",
      "13 0.7015613933845282\n",
      "14 0.7901362380825364\n",
      "15 0.9538844776467181\n",
      "16 0.7825752887409094\n",
      "17 0.8392805269906225\n",
      "18 1.8012629181225102\n",
      "19 1.4817742306796684\n",
      "20 1.3128548039538228\n",
      "21 1.41626505993705\n",
      "22 1.3773713356186041\n",
      "23 3.8780206437754154\n",
      "24 3.1025577956007924\n",
      "25 2.965302229559329\n",
      "26 2.6453005676188353\n",
      "27 2.195849038873099\n",
      "28 2.1815269980045326\n",
      "29 2.228000763448307\n",
      "30 2.25465564378989\n",
      "31 2.1570616292548195\n",
      "32 2.130846359342878\n",
      "33 2.185486117055969\n",
      "34 2.1703661427349275\n",
      "35 2.2034375495525937\n",
      "36 2.2887956121914748\n",
      "37 2.2849706028846297\n",
      "38 2.3711716585274054\n",
      "39 2.4832629740633356\n",
      "40 2.4713995845597063\n",
      "41 2.5014665427259732\n",
      "42 2.6250325446139566\n",
      "43 2.6780181457692063\n",
      "44 2.922404877272185\n",
      "45 3.0184942358868136\n",
      "46 3.1624580002851954\n",
      "47 3.295600733786315\n",
      "48 3.258538362552522\n",
      "49 3.274175215827256\n",
      "50 3.266916846059831\n",
      "51 3.6059740997717853\n",
      "52 3.7133375769556247\n",
      "53 3.6906192518697085\n",
      "54 3.7814587360334997\n",
      "55 3.6857771158067947\n",
      "56 3.6737440762469267\n",
      "57 3.65049485942325\n",
      "58 3.891407654587092\n",
      "59 3.806470038874313\n",
      "60 3.8120552897164015\n",
      "61 3.826248011435711\n",
      "62 3.804655625484767\n",
      "63 3.864781269227847\n",
      "64 3.8574182097712373\n",
      "65 3.859967390449801\n",
      "66 8.23420931160662\n",
      "67 7.655371328037304\n",
      "68 7.2514698144985985\n",
      "69 6.629769979306177\n",
      "70 6.478513363166411\n",
      "71 6.128612983687614\n",
      "72 6.172622205633447\n",
      "73 6.205747228469557\n",
      "74 6.286942425521656\n",
      "75 6.109298484553168\n",
      "76 6.148598506088098\n",
      "77 6.259501706805746\n",
      "78 6.697601067293631\n",
      "79 6.39330968811091\n",
      "80 6.58558482431029\n",
      "81 6.420950087632526\n",
      "82 6.5830122719888005\n",
      "83 7.0165007015375345\n",
      "84 7.244758767648487\n",
      "85 7.551534931476549\n",
      "86 7.408254809253071\n",
      "87 9.122670488132746\n",
      "88 8.781797008210711\n",
      "89 8.116431306161404\n",
      "90 7.96032367196864\n",
      "91 8.082709112561803\n",
      "92 8.015202214107424\n",
      "93 8.277358645138204\n",
      "94 8.494228879591994\n",
      "95 8.628978289061216\n",
      "96 8.517694767474401\n",
      "97 8.547111214545609\n",
      "98 8.728532843004903\n",
      "99 8.820398608359131\n"
     ]
    }
   ],
   "source": [
    "\n",
    "for cycle in range(100):\n",
    "    \n",
    "    parents = random.choices(ranks,weights=ranks,k=population)\n",
    "    \n",
    "    for i in range(int(population/2)):\n",
    "        child1 = random.choices([True,False] , k = n_stocks)\n",
    "        child2 = np.invert(child1)\n",
    "        people[f'new{i}'] = people[parents[i] - 1] * child1 + people[parents[i + half] - 1] * child2\n",
    "        people[f'new{i+half}'] = people[parents[i] - 1] * child2 + people[parents[i + half] - 1] * child1 \n",
    "\n",
    "        # crossover = random.randint(0,n_stocks)\n",
    "        # child1 = [False] * crossover + [True] * (n_stocks - crossover)\n",
    "        # child2 = np.invert(child1)\n",
    "        # people.loc[len(people)] = people.iloc[parents[i] - 1] * child1 + people.iloc[parents[i + half] - 1] * child2\n",
    "        # people.loc[len(people)] = people.iloc[parents[i] - 1] * child2 + people.iloc[parents[i + half] - 1] * child1 \n",
    "\n",
    "\n",
    "    people = people.iloc[:,population:]\n",
    "    \n",
    "\n",
    "    for mutate in range(ceil(mutation_init)):\n",
    "        person = random.randint(0, population - 1)\n",
    "        gen = random.randint(0, n_stocks - 1)\n",
    "        people.iloc[gen,person] = random.randint(0,1)\n",
    "\n",
    "    mutation_init += mutation_rate\n",
    "\n",
    "    people = people.apply(lambda x : x/x.sum(), axis=0)\n",
    "    people.loc['fitness'] = people.apply(fitness,axis=0)\n",
    "    people.sort_values(by = 'fitness', inplace=True, axis= 1)\n",
    "    print(cycle, people.loc['fitness'].max())\n",
    "    people.drop('fitness',axis=0, inplace=True)\n",
    "    people.columns = range(people.columns.size)\n"
   ]
  },
  {
   "attachments": {},
   "cell_type": "markdown",
   "metadata": {},
   "source": [
    "As we can every generation we have a good progress and chromosomes are getting higher fitnesses\n",
    "\n",
    "in the end I decide to cut off minmum genes and spread their weight to others"
   ]
  },
  {
   "cell_type": "code",
   "execution_count": 30,
   "metadata": {},
   "outputs": [],
   "source": [
    "minimum_stocks = 35\n",
    "\n",
    "people = people.apply(lambda x: x * (x > x.quantile(1 - minimum_stocks/n_stocks)), axis = 0)\n",
    "people = people.apply(lambda x : x/x.sum(), axis=0)"
   ]
  },
  {
   "cell_type": "code",
   "execution_count": 31,
   "metadata": {},
   "outputs": [
    {
     "name": "stdout",
     "output_type": "stream",
     "text": [
      "12.655714805746772\n"
     ]
    }
   ],
   "source": [
    "people.loc['return'] = people.apply(sreturn,axis=0)\n",
    "people.loc['risk'] = people.apply(srisk,axis=0)\n",
    "\n",
    "print(people.loc['return'].max())"
   ]
  },
  {
   "attachments": {},
   "cell_type": "markdown",
   "metadata": {},
   "source": [
    "results is saved in 'res.csv' file, we can see we have a good 1200% return with less than 50% risk"
   ]
  },
  {
   "cell_type": "code",
   "execution_count": 32,
   "metadata": {},
   "outputs": [],
   "source": [
    "people.to_csv(\"res.csv\")\n"
   ]
  },
  {
   "attachments": {},
   "cell_type": "markdown",
   "metadata": {},
   "source": [
    "Q5: small population may causes that, or a very good generation can causes sameness, to prevent that I used uniform crossover and rank-based selection. having a good chromosome and selecting by amount of fitness push data to that chromosome and we have several good answer but not best ones.\n",
    "\n",
    "Q6: limiting cycles can be a good way to end a program which chromosomes can not meet the condition of problem, tracking progress rate also can help us, slow progress means we reached out highest as we can and making new and more fitting chromosome is hard."
   ]
  }
 ],
 "metadata": {
  "kernelspec": {
   "display_name": "Python 3",
   "language": "python",
   "name": "python3"
  },
  "language_info": {
   "codemirror_mode": {
    "name": "ipython",
    "version": 3
   },
   "file_extension": ".py",
   "mimetype": "text/x-python",
   "name": "python",
   "nbconvert_exporter": "python",
   "pygments_lexer": "ipython3",
   "version": "3.7.9"
  },
  "orig_nbformat": 4
 },
 "nbformat": 4,
 "nbformat_minor": 2
}
